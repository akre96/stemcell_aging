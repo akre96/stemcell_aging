{
 "cells": [
  {
   "cell_type": "code",
   "execution_count": 1,
   "metadata": {},
   "outputs": [],
   "source": [
    "import random\n",
    "import os\n",
    "import pandas as pd\n",
    "import progressbar\n",
    "import time"
   ]
  },
  {
   "cell_type": "code",
   "execution_count": 31,
   "metadata": {},
   "outputs": [],
   "source": [
    "scramble_output_dir = '/Users/akre96/Data/HSC_aging_project/serial_transplant/rna_seq/scrambles'\n",
    "normalized_rna_seq_input_dir = '/Users/akre96/Data/HSC_aging_project/serial_transplant/rna_seq/experiments/normalized'\n",
    "bridged_output_dir = '/Users/akre96/Data/HSC_aging_project/serial_transplant/rna_seq/experiments/bridged'\n",
    "exhaustion_mapped_output_dir = '/Users/akre96/Data/HSC_aging_project/serial_transplant/rna_seq/experiments/exhaustion_mapped'\n",
    "label_filt_output_dir = '/Users/akre96/Data/HSC_aging_project/serial_transplant/rna_seq/experiments/label_filtered'\n",
    "\n",
    "labels_df = pd.read_csv('/Users/akre96/Data/HSC_aging_project/serial_transplant/rna_seq/exhaustion_labels.csv').rename(columns={'survived': 'label_name'})\n"
   ]
  },
  {
   "cell_type": "code",
   "execution_count": 28,
   "metadata": {},
   "outputs": [],
   "source": [
    "technical_replicates = [\n",
    "    'AN6',\n",
    "    'AN7'\n",
    "]\n",
    "mice = [\n",
    "    'M12',\n",
    "    'M16',\n",
    "    'M7',\n",
    "    'M6',\n",
    "    'M3',\n",
    "    'M5',\n",
    "]\n",
    "n_scrambles = 5"
   ]
  },
  {
   "cell_type": "markdown",
   "metadata": {},
   "source": [
    "## Bridge Cell Barcodes to Tracking Barcodes in RNA Seq Data and Save bridged CSV"
   ]
  },
  {
   "cell_type": "code",
   "execution_count": 6,
   "metadata": {},
   "outputs": [
    {
     "name": "stdout",
     "output_type": "stream",
     "text": [
      "Working on AN6\n",
      "\t...Importing Normalized Matrix\n",
      "\t...Importing Bridge\n",
      "\t...Merging Bridge\n",
      "\t...Saving Bridged Data\n",
      "Working on AN7\n",
      "\t...Importing Normalized Matrix\n",
      "\t...Importing Bridge\n",
      "\t...Merging Bridge\n",
      "\t...Saving Bridged Data\n"
     ]
    }
   ],
   "source": [
    "for replicate in techincal_replicates:\n",
    "    print('Working on', replicate)\n",
    "    print('\\t...Importing Normalized Matrix')\n",
    "    matrix_file_name = os.path.join(\n",
    "        normalized_rna_seq_input_dir,\n",
    "        replicate + '_normalized-matrix.csv'\n",
    "    )\n",
    "    rna_matrix = pd.read_csv(matrix_file_name)\n",
    "    rna_matrix['CBC'] = rna_matrix['Unnamed: 0'].str.split('-').str[0]\n",
    "\n",
    "    print('\\t...Importing Bridge')\n",
    "\n",
    "    bridge_file = os.path.join(\n",
    "        normalized_rna_seq_input_dir,\n",
    "        replicate + '_bridge.txt'\n",
    "    )\n",
    "    bridge = pd.read_csv(bridge_file, sep='\\t', header=None, names=['CBC', 'TBC', 'n'])\n",
    "    \n",
    "    print('\\t...Merging Bridge')\n",
    "    rna_matrix = rna_matrix.merge(\n",
    "        bridge,\n",
    "        how='inner',\n",
    "        validate='m:1'\n",
    "    )\n",
    "    first_cols = ['CBC', 'TBC', 'n']\n",
    "    gene_cols = [c for c in rna_matrix.columns if c not in first_cols + ['Unnamed: 0']]\n",
    "    col_order = first_cols + gene_cols\n",
    "    rna_matrix = rna_matrix[col_order]\n",
    "    bridged_matrix_filename = os.path.join(\n",
    "        bridged_output_dir,\n",
    "        replicate + '_bridged.csv'\n",
    "    )\n",
    "    \n",
    "    print('\\t...Saving Bridged Data')\n",
    "    rna_matrix.to_csv(bridged_matrix_filename, index=False)\n",
    "print('Done!')"
   ]
  },
  {
   "cell_type": "markdown",
   "metadata": {},
   "source": [
    "## Mapping Bridged Data to Exhuastion Labels"
   ]
  },
  {
   "cell_type": "code",
   "execution_count": 29,
   "metadata": {},
   "outputs": [
    {
     "name": "stdout",
     "output_type": "stream",
     "text": [
      "Mapping Replicate: AN6\n",
      "\t...Importing Bridged Data\n",
      "\t...Merging with labels\n",
      "\t...Saving Mapped Data Per Mouse\n",
      "Mapping Replicate: AN7\n",
      "\t...Importing Bridged Data\n",
      "\t...Merging with labels\n",
      "\t...Saving Mapped Data Per Mouse\n",
      "Done!\n",
      "Time Elapsed: 98 seconds\n"
     ]
    }
   ],
   "source": [
    "start = time.process_time()\n",
    "for replicate in technical_replicates:\n",
    "    print('Mapping Replicate:', replicate)\n",
    "    \n",
    "    print('\\t...Importing Bridged Data')\n",
    "    bridged_matrix = pd.read_csv(\n",
    "        os.path.join(\n",
    "            bridged_output_dir,\n",
    "            replicate + '_bridged.csv'    \n",
    "        )\n",
    "    )\n",
    "    \n",
    "    print('\\t...Merging with labels')\n",
    "    mapped_matrix = bridged_matrix.merge(\n",
    "        labels_df.rename(columns={'code': 'TBC'}),\n",
    "        how='inner',\n",
    "        validate='m:1'\n",
    "    )\n",
    "    print('\\t...Saving Mapped Data')\n",
    "    \n",
    "    mapped_file = os.path.join(\n",
    "        exhaustion_mapped_output_dir,\n",
    "        replicate + '_exhaustion_mapped.csv'\n",
    "    )\n",
    "    mapped_matrix.to_csv(mapped_file, index=False)\n",
    "print('Done!')\n",
    "print('Time Elapsed:', round(time.process_time() - start), 'seconds')"
   ]
  },
  {
   "cell_type": "code",
   "execution_count": 35,
   "metadata": {},
   "outputs": [
    {
     "name": "stdout",
     "output_type": "stream",
     "text": [
      "Filtering Mouse: M12\n",
      "\t...Importing Replicate: AN6\n",
      "\t...Importing Replicate: AN7\n",
      "\t\t1 label only, Skipping M12\n",
      "Filtering Mouse: M16\n",
      "\t...Importing Replicate: AN6\n",
      "\t...Importing Replicate: AN7\n",
      "\t\t1 label only, Skipping M16\n",
      "Filtering Mouse: M7\n",
      "\t...Importing Replicate: AN6\n",
      "\t...Importing Replicate: AN7\n",
      "Filtering Mouse: M6\n",
      "\t...Importing Replicate: AN6\n",
      "\t...Importing Replicate: AN7\n",
      "Filtering Mouse: M3\n",
      "\t...Importing Replicate: AN6\n",
      "\t...Importing Replicate: AN7\n",
      "\t\t1 label only, Skipping M3\n",
      "Filtering Mouse: M5\n",
      "\t...Importing Replicate: AN6\n",
      "\t...Importing Replicate: AN7\n",
      "\t\tnot enough cells, Skipping M5\n",
      "  label_name  CBC\n",
      "0  Exhausted    2\n",
      "1   Survived   15\n"
     ]
    }
   ],
   "source": [
    "for mouse_id in mice:\n",
    "    print('Filtering Mouse:', mouse_id)\n",
    "\n",
    "    mouse_data = pd.DataFrame()\n",
    "    for replicate in technical_replicates:\n",
    "        print('\\t...Importing Replicate:', replicate)\n",
    "\n",
    "        mouse_rep_data = pd.read_csv(\n",
    "            os.path.join(\n",
    "                exhaustion_mapped_output_dir,\n",
    "                mouse_id + '-' + replicate + '_exhaustion_mapped.csv'\n",
    "            )\n",
    "        )\n",
    "        mouse_data = mouse_data.append(mouse_rep_data, ignore_index=True)\n",
    "    \n",
    "    \n",
    "    count_df = pd.DataFrame(mouse_data.groupby('label_name').CBC.nunique()).reset_index()\n",
    "    if count_df.label_name.nunique() < 2:\n",
    "        print('\\t\\t1 label only, Skipping', mouse_id)\n",
    "        continue           \n",
    "    if not count_df[count_df.CBC < 10].empty:\n",
    "        print('\\t\\tnot enough cells, Skipping', mouse_id)\n",
    "        print(count_df)\n",
    "        continue\n",
    "    filt_file = os.path.join(\n",
    "        label_filt_output_dir,\n",
    "        mouse_id + '_label_filtered.csv'\n",
    "    )\n",
    "    mouse_data.to_csv(filt_file, index=False)\n",
    "    "
   ]
  },
  {
   "cell_type": "markdown",
   "metadata": {},
   "source": [
    "## Generate Scramble Using Bridged Data"
   ]
  },
  {
   "cell_type": "code",
   "execution_count": 38,
   "metadata": {},
   "outputs": [
    {
     "name": "stdout",
     "output_type": "stream",
     "text": [
      "Scrambling Mouse: AN7\n",
      "\t...Scramble 0\n",
      "\t...Scramble 1\n",
      "\t...Scramble 2\n",
      "\t...Scramble 3\n",
      "\t...Scramble 4\n",
      "Scrambling Mouse: AN6\n",
      "\t...Scramble 0\n",
      "\t...Scramble 1\n",
      "\t...Scramble 2\n",
      "\t...Scramble 3\n",
      "\t...Scramble 4\n",
      "Done!\n",
      "Time Elapsed: 363 seconds\n"
     ]
    }
   ],
   "source": [
    "start = time.process_time()\n",
    "for fname in os.listdir(bridged_output_dir):\n",
    "    if fname.split('.')[-1] != 'csv':\n",
    "        continue\n",
    "    replicate = fname.split('_')[0]\n",
    "    print('Scrambling Run:', replicate)\n",
    "\n",
    "    mapped_matrix = pd.read_csv(\n",
    "        os.path.join(\n",
    "            bridged_output_dir,\n",
    "            fname    \n",
    "        )\n",
    "    )\n",
    "\n",
    "    cells = mapped_matrix['CBC'].unique()\n",
    "    clones = mapped_matrix['TBC'].unique().tolist()\n",
    "\n",
    "    for i in range(n_scrambles):\n",
    "        scramble_clones = []\n",
    "        print('\\t...Scramble', i)\n",
    "        for cell in cells:\n",
    "            rand_clone = random.sample(clones, 1)[0]\n",
    "            scramble_clones.append(rand_clone)\n",
    "\n",
    "        scramble_matrix = mapped_matrix.copy()\n",
    "        scramble_matrix['TBC'] = scramble_clones\n",
    "\n",
    "        scramble_file = os.path.join(\n",
    "            scramble_output_dir,\n",
    "            replicate + '_scramble' + '-' + str(i) + '.csv'\n",
    "        )\n",
    "        scramble_matrix.to_csv(scramble_file, index=False)\n",
    "print('Done!')\n",
    "print('Time Elapsed:', round(time.process_time() - start), 'seconds')"
   ]
  },
  {
   "cell_type": "code",
   "execution_count": null,
   "metadata": {},
   "outputs": [],
   "source": []
  }
 ],
 "metadata": {
  "kernelspec": {
   "display_name": "Python 3",
   "language": "python",
   "name": "python3"
  },
  "language_info": {
   "codemirror_mode": {
    "name": "ipython",
    "version": 3
   },
   "file_extension": ".py",
   "mimetype": "text/x-python",
   "name": "python",
   "nbconvert_exporter": "python",
   "pygments_lexer": "ipython3",
   "version": "3.6.0"
  }
 },
 "nbformat": 4,
 "nbformat_minor": 4
}
