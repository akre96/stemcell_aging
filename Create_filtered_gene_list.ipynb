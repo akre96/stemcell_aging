{
 "cells": [
  {
   "cell_type": "code",
   "execution_count": 1,
   "metadata": {},
   "outputs": [],
   "source": [
    "import os\n",
    "import collections\n",
    "import pandas as pd\n",
    "import numpy as np\n",
    "import scipy.sparse as sp_sparse\n",
    "import tables\n",
    "import progressbar\n",
    "from functools import reduce\n",
    "\n",
    "CountMatrix = collections.namedtuple('CountMatrix', ['genes', 'barcodes', 'matrix'])\n",
    " \n",
    "def get_matrix_from_h5(filename):\n",
    "    with tables.open_file(filename, 'r') as f:\n",
    "        mat_group = f.get_node(f.root, 'mm10')\n",
    "        barcodes = f.get_node(mat_group, 'barcodes').read()\n",
    "        data = getattr(mat_group, 'data').read()\n",
    "        indices = getattr(mat_group, 'indices').read()\n",
    "        indptr = getattr(mat_group, 'indptr').read()\n",
    "        shape = getattr(mat_group, 'shape').read()\n",
    "        matrix = sp_sparse.csc_matrix((data, indices, indptr), shape=shape)\n",
    "        gene_names = getattr(mat_group, 'genes').read()\n",
    "\n",
    "         \n",
    "        return CountMatrix(gene_names, barcodes, matrix)"
   ]
  },
  {
   "cell_type": "markdown",
   "metadata": {},
   "source": [
    "## Filter Gene list by # of UMIs in a # of Cells"
   ]
  },
  {
   "cell_type": "code",
   "execution_count": 39,
   "metadata": {},
   "outputs": [
    {
     "name": "stdout",
     "output_type": "stream",
     "text": [
      "AN6 -- # of Cells gene must be in: 10\n"
     ]
    },
    {
     "name": "stderr",
     "output_type": "stream",
     "text": [
      "100% (17372 of 17372) |##################| Elapsed Time: 0:00:23 Time:  0:00:23\n"
     ]
    },
    {
     "name": "stdout",
     "output_type": "stream",
     "text": [
      "AN6 # of genes: 5656\n",
      "AN7 -- # of Cells gene must be in: 10\n"
     ]
    },
    {
     "name": "stderr",
     "output_type": "stream",
     "text": [
      "100% (16064 of 16064) |##################| Elapsed Time: 0:00:20 Time:  0:00:20\n"
     ]
    },
    {
     "name": "stdout",
     "output_type": "stream",
     "text": [
      "AN7 # of genes: 4475\n"
     ]
    }
   ],
   "source": [
    "gene_lists=[]\n",
    "\n",
    "cells_threshold = 10\n",
    "umi_threshold = 2\n",
    "tenX_data_path = '/Users/akre96/Data/HSC_aging_project/serial_transplant/rna_seq/experiments/raw'\n",
    "\n",
    "for replicate in ['AN6', 'AN7']:\n",
    "    filtered_matrix_h5 = os.path.join(tenX_data_path, replicate + \"_filtered_gene_bc_matrices_h5.h5\")\n",
    "    filtered_feature_bc_matrix = get_matrix_from_h5(filtered_matrix_h5)\n",
    "    n_genes, n_cells = filtered_feature_bc_matrix.matrix.shape\n",
    "    print(replicate, '-- # of Cells gene must be in:', cells_threshold)\n",
    "    # Return a Coordinate (coo) representation of the Compresses-Sparse-Column (csc) matrix.\n",
    "    coo = filtered_feature_bc_matrix.matrix.tocoo(copy=False)\n",
    "\n",
    "    # Access `row`, `col` and `data` properties of coo matrix.\n",
    "    umi_count_df = pd.DataFrame({'gene_index': coo.row, 'col': coo.col, 'data': coo.data}\n",
    "                     )[['gene_index', 'col', 'data']].sort_values(['gene_index', 'col']\n",
    "                     ).reset_index(drop=True)\n",
    "    umi_count_df['gene'] = umi_count_df['gene_index'].apply(lambda x: filtered_feature_bc_matrix.genes[x])\n",
    "\n",
    "    gene_list = []\n",
    "    for gene, g_df in progressbar.progressbar(umi_count_df.groupby('gene')):\n",
    "        if len(g_df[g_df.data > umi_threshold]) >= cells_threshold:\n",
    "            gene_list.append(gene)\n",
    "    gene_lists.append(set(gene_list))\n",
    "    print(replicate, '# of genes:', len(gene_list))"
   ]
  },
  {
   "cell_type": "code",
   "execution_count": 40,
   "metadata": {},
   "outputs": [
    {
     "name": "stdout",
     "output_type": "stream",
     "text": [
      "Gene list length after finding unique: 4459\n"
     ]
    }
   ],
   "source": [
    "gene_set = reduce(set.intersection, gene_lists)\n",
    "print('Gene list length after finding unique:', len(gene_set))"
   ]
  },
  {
   "cell_type": "code",
   "execution_count": 41,
   "metadata": {},
   "outputs": [],
   "source": [
    "out_dir = '/Users/akre96/Data/HSC_aging_project/serial_transplant/rna_seq/experiments/filtered_gene_lists'\n",
    "file_name = 'filtered_gene-list_ncells-' \\\n",
    "    + str(cells_threshold) \\\n",
    "    + '_umicount-' + str(umi_threshold) \\\n",
    "    + '_len-' + str(len(gene_set)) + '.npy'\n",
    "\n",
    "np.save(os.path.join(out_dir, file_name), np.array(gene_set))"
   ]
  },
  {
   "cell_type": "markdown",
   "metadata": {},
   "source": [
    "## Filter Gene list by # of UMIs in a % of Cells"
   ]
  },
  {
   "cell_type": "code",
   "execution_count": 26,
   "metadata": {},
   "outputs": [
    {
     "name": "stdout",
     "output_type": "stream",
     "text": [
      "AN6 -- # of Cells gene must be in: 47.75\n"
     ]
    },
    {
     "name": "stderr",
     "output_type": "stream",
     "text": [
      "100% (17372 of 17372) |##################| Elapsed Time: 0:00:19 Time:  0:00:19\n"
     ]
    },
    {
     "name": "stdout",
     "output_type": "stream",
     "text": [
      "AN6 # of genes: 117\n",
      "AN7 -- # of Cells gene must be in: 14.675\n"
     ]
    },
    {
     "name": "stderr",
     "output_type": "stream",
     "text": [
      "100% (16064 of 16064) |##################| Elapsed Time: 0:00:19 Time:  0:00:19\n"
     ]
    },
    {
     "name": "stdout",
     "output_type": "stream",
     "text": [
      "AN7 # of genes: 127\n"
     ]
    }
   ],
   "source": [
    "gene_lists=[]\n",
    "\n",
    "percent_cell_threshold = 0.5\n",
    "umi_threshold = 50\n",
    "tenX_data_path = '/Users/akre96/Data/HSC_aging_project/serial_transplant/rna_seq/experiments/raw'\n",
    "\n",
    "for replicate in ['AN6', 'AN7']:\n",
    "    filtered_matrix_h5 = os.path.join(tenX_data_path, replicate + \"_filtered_gene_bc_matrices_h5.h5\")\n",
    "    filtered_feature_bc_matrix = get_matrix_from_h5(filtered_matrix_h5)\n",
    "    n_genes, n_cells = filtered_feature_bc_matrix.matrix.shape\n",
    "    cells_threshold = n_cells * percent_cell_threshold / 100\n",
    "    print(replicate, '-- # of Cells gene must be in:', cells_threshold)\n",
    "    \n",
    "    # Return a Coordinate (coo) representation of the Compresses-Sparse-Column (csc) matrix.\n",
    "    coo = filtered_feature_bc_matrix.matrix.tocoo(copy=False)\n",
    "\n",
    "    # Access `row`, `col` and `data` properties of coo matrix.\n",
    "    umi_count_df = pd.DataFrame({'gene_index': coo.row, 'col': coo.col, 'data': coo.data}\n",
    "                     )[['gene_index', 'col', 'data']].sort_values(['gene_index', 'col']\n",
    "                     ).reset_index(drop=True)\n",
    "    umi_count_df['gene'] = umi_count_df['gene_index'].apply(lambda x: filtered_feature_bc_matrix.genes[x])\n",
    "    gene_list = []\n",
    "    for gene, g_df in progressbar.progressbar(umi_count_df.groupby('gene')):\n",
    "        if len(g_df[g_df.data > umi_threshold]) >= cells_threshold:\n",
    "            gene_list.append(gene)\n",
    "    gene_lists.append(set(gene_list))\n",
    "    print(replicate, '# of genes:', len(gene_list))"
   ]
  },
  {
   "cell_type": "code",
   "execution_count": 27,
   "metadata": {},
   "outputs": [
    {
     "name": "stdout",
     "output_type": "stream",
     "text": [
      "Gene list length after finding unique: 114\n"
     ]
    }
   ],
   "source": [
    "gene_set = reduce(set.intersection, gene_lists)\n",
    "print('Gene list length after finding unique:', len(gene_set))"
   ]
  },
  {
   "cell_type": "code",
   "execution_count": 28,
   "metadata": {},
   "outputs": [],
   "source": [
    "out_dir = '/Users/akre96/Data/HSC_aging_project/serial_transplant/rna_seq/filtered_gene_lists'\n",
    "file_name = 'filtered_gene-list_pcells-' \\\n",
    "    + str(percent_cell_threshold) \\\n",
    "    + '_umicount-' + str(umi_threshold) \\\n",
    "    + '_len-' + str(len(gene_set)) + '.npy'\n",
    "\n",
    "np.save(os.path.join(out_dir, file_name), np.array(gene_set))"
   ]
  },
  {
   "cell_type": "code",
   "execution_count": 25,
   "metadata": {},
   "outputs": [
    {
     "name": "stdout",
     "output_type": "stream",
     "text": [
      "filtered_gene-list_pcells-0.5_umicount-100_len-64.npy\n"
     ]
    }
   ],
   "source": [
    "print(file_name)"
   ]
  },
  {
   "cell_type": "markdown",
   "metadata": {},
   "source": [
    "## Check if Y chromosome genes are expressed in high amounts"
   ]
  },
  {
   "cell_type": "code",
   "execution_count": 61,
   "metadata": {},
   "outputs": [
    {
     "name": "stdout",
     "output_type": "stream",
     "text": [
      "AN6 Mean\n",
      "gene\n",
      "b'ENSMUSG00000056673'    1.031746\n",
      "b'ENSMUSG00000068457'    1.066007\n",
      "b'ENSMUSG00000069045'    1.139645\n",
      "b'ENSMUSG00000069049'    1.183936\n",
      "b'ENSMUSG00000096768'    1.283333\n",
      "Name: data, dtype: float64\n",
      "AN6 Median\n",
      "gene\n",
      "b'ENSMUSG00000056673'    1\n",
      "b'ENSMUSG00000068457'    1\n",
      "b'ENSMUSG00000069045'    1\n",
      "b'ENSMUSG00000069049'    1\n",
      "b'ENSMUSG00000096768'    1\n",
      "Name: data, dtype: int32\n",
      "AN7 Mean\n",
      "gene\n",
      "b'ENSMUSG00000056673'    1.043478\n",
      "b'ENSMUSG00000068457'    1.030000\n",
      "b'ENSMUSG00000069045'    1.133106\n",
      "b'ENSMUSG00000069049'    1.231884\n",
      "b'ENSMUSG00000096768'    1.380702\n",
      "Name: data, dtype: float64\n",
      "AN7 Median\n",
      "gene\n",
      "b'ENSMUSG00000056673'    1\n",
      "b'ENSMUSG00000068457'    1\n",
      "b'ENSMUSG00000069045'    1\n",
      "b'ENSMUSG00000069049'    1\n",
      "b'ENSMUSG00000096768'    1\n",
      "Name: data, dtype: int32\n"
     ]
    }
   ],
   "source": [
    "gene_lists=[]\n",
    "\n",
    "cells_threshold = 10\n",
    "umi_threshold = 2\n",
    "tenX_data_path = '/Users/akre96/Data/HSC_aging_project/serial_transplant/rna_seq/experiments/raw'\n",
    "\n",
    "for replicate in ['AN6', 'AN7']:\n",
    "    filtered_matrix_h5 = os.path.join(tenX_data_path, replicate + \"_filtered_gene_bc_matrices_h5.h5\")\n",
    "    filtered_feature_bc_matrix = get_matrix_from_h5(filtered_matrix_h5)\n",
    "\n",
    "    coo = filtered_feature_bc_matrix.matrix.tocoo(copy=False)\n",
    "\n",
    "    # Access `row`, `col` and `data` properties of coo matrix.\n",
    "    umi_count_df = pd.DataFrame({'gene_index': coo.row, 'col': coo.col, 'data': coo.data}\n",
    "                     )[['gene_index', 'col', 'data']].sort_values(['gene_index', 'col']\n",
    "                     ).reset_index(drop=True)\n",
    "    umi_count_df['gene'] = umi_count_df['gene_index'].apply(lambda x: filtered_feature_bc_matrix.genes[x])\n",
    "    gene_in_y = [b'ENSMUSG00000056673',b'ENSMUSG00000069049',b'ENSMUSG00000068457',b'ENSMUSG00000069045',b'ENSMUSG00000096768']\n",
    "    in_y_count_df = umi_count_df[umi_count_df.gene.isin(gene_in_y)]\n",
    "    print(replicate, 'Mean')\n",
    "    print(in_y_count_df.groupby('gene').data.mean())\n",
    "    print(replicate, 'Median')\n",
    "    print(in_y_count_df.groupby('gene').data.median())\n"
   ]
  },
  {
   "cell_type": "code",
   "execution_count": null,
   "metadata": {},
   "outputs": [],
   "source": []
  }
 ],
 "metadata": {
  "kernelspec": {
   "display_name": "Python 3",
   "language": "python",
   "name": "python3"
  },
  "language_info": {
   "codemirror_mode": {
    "name": "ipython",
    "version": 3
   },
   "file_extension": ".py",
   "mimetype": "text/x-python",
   "name": "python",
   "nbconvert_exporter": "python",
   "pygments_lexer": "ipython3",
   "version": "3.6.0"
  }
 },
 "nbformat": 4,
 "nbformat_minor": 4
}
