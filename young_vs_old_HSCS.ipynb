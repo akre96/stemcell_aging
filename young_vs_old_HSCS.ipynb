{
 "cells": [
  {
   "cell_type": "code",
   "execution_count": 28,
   "metadata": {},
   "outputs": [],
   "source": [
    "import os\n",
    "import json\n",
    "from collections import OrderedDict\n",
    "import pandas as pd\n",
    "import seaborn as sns\n",
    "import matplotlib.pyplot as plt\n",
    "import aggregate_functions as agg\n",
    "import plotting_functions as pf\n",
    "import parse_facs_data as pfd\n",
    "import statistical_tests as st"
   ]
  },
  {
   "cell_type": "code",
   "execution_count": 4,
   "metadata": {},
   "outputs": [],
   "source": [
    "young_data_root = '~/Data/young_mouse_hscs'\n",
    "young_lb_file = os.path.join(young_data_root, 'lineage_bias/lineage_bias_t0-0_from-counts.csv')\n",
    "young_abundance = pd.read_csv(\n",
    "    os.path.join(young_data_root, \"M_all_Ania_percent-engraftment_filter 0.0001 070919_long.csv\")\n",
    ")\n",
    "young_lineage_bias = pd.read_csv(young_lb_file)\n",
    "\n",
    "old_data_root = '~/Data/stemcell_aging'\n",
    "old_lb_file = os.path.join(old_data_root, 'lineage_bias/lineage_bias_t0-0_from-counts.csv')\n",
    "old_abundance = pd.read_csv(\n",
    "    os.path.join(old_data_root, \"Ania_M_allAnia_percent-engraftment_052219_long.csv\")\n",
    ")\n",
    "old_lineage_bias = pd.read_csv(old_lb_file)"
   ]
  },
  {
   "cell_type": "code",
   "execution_count": 15,
   "metadata": {},
   "outputs": [],
   "source": [
    "young_donor_file = os.path.join(\n",
    "    young_data_root,\n",
    "    'young_donor.tsv'\n",
    ")\n",
    "young_gfp_file = os.path.join(\n",
    "    young_data_root,\n",
    "    'young_gfp.tsv'\n",
    ")\n",
    "young_wbc_file = os.path.join(\n",
    "    young_data_root,\n",
    "    'young_wbc.tsv'\n",
    ")\n",
    "young_wbc = pfd.parse_wbc_count_file(\n",
    "    young_wbc_file\n",
    ")\n",
    "\n",
    "\n",
    "old_donor_file = os.path.join(\n",
    "    old_data_root,\n",
    "    'OT_2.0_donor_051818.txt'\n",
    ")\n",
    "\n",
    "old_gfp_file = os.path.join(\n",
    "    old_data_root,\n",
    "    'OT_2.0_GFP_051818.txt'\n",
    ")\n",
    "\n",
    "old_wbc_file = os.path.join(\n",
    "    old_data_root,\n",
    "    'OT_2.0_WBCs_051818-modified.txt'\n",
    ")\n",
    "old_wbc = pfd.parse_wbc_count_file(\n",
    "    old_wbc_file\n",
    ")"
   ]
  },
  {
   "cell_type": "code",
   "execution_count": 18,
   "metadata": {},
   "outputs": [
    {
     "name": "stdout",
     "output_type": "stream",
     "text": [
      "Length before filtering HSCs: 534\n",
      "Length after filtering HSCs: 365\n",
      "Length before filtering HSCs: 2303\n",
      "Length after filtering HSCs: 327\n"
     ]
    }
   ],
   "source": [
    "young_min_hsc_per_mouse = agg.calc_min_hsc_per_mouse(\n",
    "    young_wbc_file,\n",
    "    young_gfp_file,\n",
    "    young_donor_file,\n",
    "    tenx_hsc_counts_file='~/Data/tenx_hsc_counts.csv'\n",
    ")\n",
    "old_min_hsc_per_mouse = agg.calc_min_hsc_per_mouse(\n",
    "    old_wbc_file,\n",
    "    old_gfp_file,\n",
    "    old_donor_file,\n",
    "    tenx_hsc_counts_file='~/Data/tenx_hsc_counts.csv'\n",
    ")\n",
    "\n",
    "young_abundance = agg.filter_low_abund_hsc(\n",
    "    young_min_hsc_per_mouse,\n",
    "    young_abundance\n",
    ")\n",
    "old_abundance = agg.filter_low_abund_hsc(\n",
    "    old_min_hsc_per_mouse,\n",
    "    old_abundance\n",
    ")"
   ]
  },
  {
   "cell_type": "code",
   "execution_count": 23,
   "metadata": {},
   "outputs": [
    {
     "name": "stdout",
     "output_type": "stream",
     "text": [
      "\n",
      " Filtering Lineage Bias Ratio Based on Gr/B Ratio Per Mouse at First Time Point\n",
      "Length Before Filtering:  923\n",
      "Length After Filtering:  312 \n",
      "\n",
      "\n",
      " Filtering Lineage Bias Ratio Based on Gr/B Ratio Per Mouse at First Time Point\n",
      "Length Before Filtering:  8915\n",
      "Length After Filtering:  3134 \n",
      "\n"
     ]
    }
   ],
   "source": [
    "b_min_abund = 0.05\n",
    "myeloid_cell = 'gr'\n",
    "lymphoid_cell = 'b'\n",
    "timepoint_col = 'month'\n",
    "\n",
    "young_lineage_bias = agg.filter_lineage_bias_cell_type_ratio_per_mouse(\n",
    "    young_lineage_bias,\n",
    "    timepoint_col,\n",
    "    young_wbc,\n",
    "    b_min_abund,\n",
    "    myeloid_cell=myeloid_cell,\n",
    "    lymphoid_cell=lymphoid_cell,\n",
    ")\n",
    "old_lineage_bias = agg.filter_lineage_bias_cell_type_ratio_per_mouse(\n",
    "    old_lineage_bias,\n",
    "    timepoint_col,\n",
    "    old_wbc,\n",
    "    b_min_abund,\n",
    "    myeloid_cell=myeloid_cell,\n",
    "    lymphoid_cell=lymphoid_cell,\n",
    ")"
   ]
  },
  {
   "cell_type": "code",
   "execution_count": 24,
   "metadata": {},
   "outputs": [],
   "source": [
    "young_hsc_data = young_abundance[young_abundance.cell_type == 'hsc']\n",
    "old_hsc_data = old_abundance[old_abundance.cell_type == 'hsc']\n",
    "\n",
    "last_young_clones = agg.find_last_clones(\n",
    "    young_lineage_bias,\n",
    "    'day'\n",
    ")\n",
    "labeled_young_last_clones = agg.add_bias_category(\n",
    "    last_young_clones\n",
    ")\n",
    "bias_young_hsc_abundance_df = young_hsc_data.merge(\n",
    "    labeled_young_last_clones[['code', 'mouse_id', 'bias_category_short']],\n",
    "    how='inner',\n",
    "    validate='1:1'\n",
    ").assign(age='young')\n",
    "\n",
    "\n",
    "last_old_clones = agg.find_last_clones(\n",
    "    old_lineage_bias,\n",
    "    'day'\n",
    ")\n",
    "labeled_old_last_clones = agg.add_bias_category(\n",
    "    last_old_clones\n",
    ")\n",
    "bias_old_hsc_abundance_df = old_hsc_data.merge(\n",
    "    labeled_old_last_clones[['code', 'mouse_id', 'bias_category_short']],\n",
    "    how='inner',\n",
    "    validate='1:1'\n",
    ").assign(age='old')\n",
    "\n",
    "hsc_bias_abundance = bias_old_hsc_abundance_df.append(bias_young_hsc_abundance_df)\n",
    "\n"
   ]
  },
  {
   "cell_type": "code",
   "execution_count": 25,
   "metadata": {},
   "outputs": [
    {
     "data": {
      "text/plain": [
       "Text(0.5, 1.0, 'HSC Abundance by Bias at Last Time Point')"
      ]
     },
     "execution_count": 25,
     "metadata": {},
     "output_type": "execute_result"
    },
    {
     "data": {
      "image/png": "[encoded data removed]",
      "text/plain": [
       "<Figure size 864x576 with 1 Axes>"
      ]
     },
     "metadata": {
      "needs_background": "light"
     },
     "output_type": "display_data"
    }
   ],
   "source": [
    "sns.set_context(\n",
    "    'paper',\n",
    "    rc={\n",
    "        'lines.linewidth': 3,\n",
    "        'axes.linewidth': 4,\n",
    "        'axes.labelsize': 20,\n",
    "        'xtick.major.width': 5,\n",
    "        'ytick.major.width': 5,\n",
    "        'ytick.minor.width': 5,\n",
    "        'xtick.labelsize': 20,\n",
    "        'ytick.labelsize': 20,\n",
    "        'figure.titlesize': 'small',\n",
    "        'axes.edgecolor': 'black',\n",
    "        'xtick.color': 'black',\n",
    "        'ytick.color': 'black',\n",
    "        'figure.facecolor': 'white'\n",
    "    }\n",
    "\n",
    "    )\n",
    "COLOR_PALETTES = json.load(open('lib/color_palettes.json', 'r'))\n",
    "cats_order = [\n",
    "    'Ly Biased',\n",
    "    'Balanced',\n",
    "    'My Biased',\n",
    "]\n",
    "unique_cats = list(OrderedDict.fromkeys(cats_order))\n",
    "\n",
    "\n",
    "plt.figure(figsize=(12,8))\n",
    "ax = sns.barplot(\n",
    "    y='percent_engraftment',\n",
    "    x='bias_category_short',\n",
    "    order=unique_cats,\n",
    "    data=hsc_bias_abundance,\n",
    "    hue='age',\n",
    "    palette=COLOR_PALETTES['age']\n",
    ")\n",
    "ax.set(yscale='log')\n",
    "plt.xlabel('')\n",
    "plt.ylabel('HSC Abundance (% HSCs)')\n",
    "plt.title(\n",
    "    'HSC Abundance by Bias at Last Time Point'\n",
    ")"
   ]
  },
  {
   "cell_type": "code",
   "execution_count": 35,
   "metadata": {},
   "outputs": [
    {
     "name": "stdout",
     "output_type": "stream",
     "text": [
      "\n",
      "Performing Rank-Sum T-Test on Old vs Young Mice between age at each Bias Category Short\n",
      "Bias_Category_Short Balanced P-Value: 0.08025133066595129 Mean: -0.43103823358430543\n",
      "Bias_Category_Short Ly Biased P-Value: 0.0983015218322727 Mean: -0.3404442638914027\n",
      "Bias_Category_Short My Biased P-Value: 0.0009506755510991031 Mean: 0.02515288502842794\n",
      "\n",
      "Performing Rank Sum T-Test on Old vs Young Mice per age between Bias Category Shorts\n",
      "Old Bias Category Short Balanced vs Ly Biased P-Value: 0.000528334717726902 Mean: -0.16002537025575453\n",
      "Old Bias Category Short Balanced vs My Biased P-Value: 0.0022266203779211704 Mean: -0.7227634723571235\n",
      "Old Bias Category Short Ly Biased vs My Biased P-Value: 0.3069365650948641 Mean: -0.562738102101369\n",
      "Young Bias Category Short Balanced vs Ly Biased P-Value: 0.1424187254733281 Mean: -0.0694314005628518\n",
      "Young Bias Category Short Balanced vs My Biased P-Value: 0.005186516173741671 Mean: -0.26657235374439014\n",
      "Young Bias Category Short Ly Biased vs My Biased P-Value: 0.9796475104012042 Mean: -0.19714095318153835\n",
      "All Bias Category Short Balanced vs Ly Biased P-Value: 0.00012455336269201296 Mean: -0.17467476999498754\n",
      "All Bias Category Short Balanced vs My Biased P-Value: 1.3431101166968372e-06 Mean: -0.5788162123377105\n",
      "All Bias Category Short Ly Biased vs My Biased P-Value: 0.7295478862119076 Mean: -0.404141442342723\n"
     ]
    }
   ],
   "source": [
    "import importlib\n",
    "importlib.reload(st)\n",
    "st.ranksums_test_group_time(\n",
    "    data=hsc_bias_abundance,\n",
    "    test_col='percent_engraftment',\n",
    "    timepoint_col='bias_category_short',\n",
    "    overall_context='Old vs Young Mice',\n",
    "    show_ns=True,\n",
    "    group_col='age'\n",
    ")"
   ]
  },
  {
   "cell_type": "code",
   "execution_count": null,
   "metadata": {},
   "outputs": [],
   "source": [
    "sems=[[],[]]\n",
    "means=[]\n",
    "colors=[]\n",
    "for bias_cat in unique_cats:\n",
    "    cats_df = myeloid_hsc_abundance_df[myeloid_hsc_abundance_df.bias_category == bias_cat]\n",
    "    sems[0].append(0)\n",
    "    sems[1].append(cats_df.percent_engraftment.sem())\n",
    "    means.append(cats_df.percent_engraftment.mean())\n",
    "    colors.append(COLOR_PALETTES['bias_category'][bias_cat])\n",
    "\n",
    "coords = np.arange(len(unique_cats)) + 1\n",
    "width = 0.4\n",
    "fig, ax = plt.subplots(figsize=(12,8))\n",
    "ax.bar(\n",
    "    x=coords,\n",
    "    height=means,\n",
    "    width=width,\n",
    "    tick_label=unique_cats,\n",
    "    color=colors,\n",
    "    log=True,\n",
    ")\n",
    "_, caps, _ = ax.errorbar(\n",
    "    coords,\n",
    "    means,\n",
    "    yerr=sems,\n",
    "    color='black',\n",
    "    capsize=10,\n",
    "    capthick=2,\n",
    "    ls='none',\n",
    "    )\n",
    "caps[0].set_marker('_')\n",
    "caps[0].set_markersize(0)"
   ]
  },
  {
   "cell_type": "code",
   "execution_count": null,
   "metadata": {},
   "outputs": [],
   "source": [
    "save_format='png'\n",
    "fname = '/home/sakre/Data/young_mouse_hscs/Graphs/' \\\n",
    "    + 'hsc_abundance_yvo' \\\n",
    "    + '.' + save_format\n",
    "\n",
    "plt.savefig(\n",
    "    fname,\n",
    "    format=save_format,\n",
    "    bbox_inches='tight',\n",
    ")"
   ]
  }
 ],
 "metadata": {
  "kernelspec": {
   "display_name": "Python 3",
   "language": "python",
   "name": "python3"
  },
  "language_info": {
   "codemirror_mode": {
    "name": "ipython",
    "version": 3
   },
   "file_extension": ".py",
   "mimetype": "text/x-python",
   "name": "python",
   "nbconvert_exporter": "python",
   "pygments_lexer": "ipython3",
   "version": "3.7.3"
  }
 },
 "nbformat": 4,
 "nbformat_minor": 4
}
