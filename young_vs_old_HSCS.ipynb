{
 "cells": [
  {
   "cell_type": "code",
   "execution_count": 1,
   "metadata": {},
   "outputs": [],
   "source": [
    "import os\n",
    "import json\n",
    "from collections import OrderedDict\n",
    "import pandas as pd\n",
    "import seaborn as sns\n",
    "import matplotlib.pyplot as plt\n",
    "import aggregate_functions as agg\n",
    "import plotting_functions as pf\n",
    "import parse_facs_data as pfd\n",
    "import statistical_tests as st\n",
    "import importlib"
   ]
  },
  {
   "cell_type": "code",
   "execution_count": 2,
   "metadata": {},
   "outputs": [],
   "source": [
    "young_data_root = '~/Data/young_mouse_hscs'\n",
    "young_lb_file = os.path.join(young_data_root, 'lineage_bias/lineage_bias.csv')\n",
    "young_abundance = pd.read_csv(\n",
    "    os.path.join(young_data_root, \"Ania_M_allAnia 10x hsc 8mice rerun8mice_Ania_percent-engraftment_NO filter_081019_long.csv\")\n",
    ")\n",
    "young_lineage_bias = pd.read_csv(young_lb_file)\n",
    "\n",
    "old_data_root = '~/Data/aging_and_10x'\n",
    "old_lb_file = os.path.join(old_data_root, 'lineage_bias/lineage_bias.csv')\n",
    "old_abundance = pd.read_csv(\n",
    "    os.path.join(old_data_root, \"Ania_M_all OT2.0 rerun_percent-engraftment_NO filter_080819_long.csv\")\n",
    ")\n",
    "old_lineage_bias = pd.read_csv(old_lb_file)"
   ]
  },
  {
   "cell_type": "code",
   "execution_count": 3,
   "metadata": {},
   "outputs": [
    {
     "name": "stdout",
     "output_type": "stream",
     "text": [
      "Filters: {'any': 0.01}\n",
      "Change in length of abundanc post filtering: 4412\n",
      "Filters: {'any': 0.01}\n",
      "Change in length of abundanc post filtering: 90576\n"
     ]
    }
   ],
   "source": [
    "young_abundance = agg.filter_clones_threshold_anytime(\n",
    "        young_abundance,\n",
    "        {'any': 0.01},\n",
    "        analyzed_cell_types=young_abundance.cell_type.unique(),\n",
    "        filter_exempt_cell_types=['hsc']\n",
    "    )\n",
    "old_abundance = agg.filter_clones_threshold_anytime(\n",
    "        old_abundance,\n",
    "        {'any': 0.01},\n",
    "        analyzed_cell_types=old_abundance.cell_type.unique(),\n",
    "        filter_exempt_cell_types=['hsc']\n",
    "    )"
   ]
  },
  {
   "cell_type": "code",
   "execution_count": 4,
   "metadata": {},
   "outputs": [],
   "source": [
    "young_donor_file = os.path.join(\n",
    "    young_data_root,\n",
    "    'donor YO OTY 081019.txt'\n",
    ")\n",
    "young_gfp_file = os.path.join(\n",
    "    young_data_root,\n",
    "    'GFP YO OT 070819 updtd 081019 step7.txt'\n",
    ")\n",
    "young_wbc_file = os.path.join(\n",
    "    young_data_root,\n",
    "    'WBC 081019 step7.txt'\n",
    ")\n",
    "young_wbc = pfd.parse_wbc_count_file(\n",
    "    young_wbc_file\n",
    ")\n",
    "\n",
    "\n",
    "old_donor_file = os.path.join(\n",
    "    old_data_root,\n",
    "    'aging_10x_Donor.txt'\n",
    ")\n",
    "\n",
    "old_gfp_file = os.path.join(\n",
    "    old_data_root,\n",
    "    'aging_10x_GFP.txt'\n",
    ")\n",
    "\n",
    "old_wbc_file = os.path.join(\n",
    "    old_data_root,\n",
    "    'aging_10x_WBC.txt'\n",
    ")\n",
    "old_wbc = pfd.parse_wbc_count_file(\n",
    "    old_wbc_file\n",
    ")"
   ]
  },
  {
   "cell_type": "code",
   "execution_count": 5,
   "metadata": {},
   "outputs": [
    {
     "name": "stdout",
     "output_type": "stream",
     "text": [
      "\n",
      " Filtering Lineage Bias Ratio Based on Gr/B Ratio Per Mouse at First Time Point\n",
      "Length Before Filtering:  3018\n",
      "Length After Filtering:  463 \n",
      "\n",
      "\n",
      " Filtering Lineage Bias Ratio Based on Gr/B Ratio Per Mouse at First Time Point\n",
      "Length Before Filtering:  60958\n",
      "Length After Filtering:  6026 \n",
      "\n"
     ]
    }
   ],
   "source": [
    "importlib.reload(agg)\n",
    "b_min_abund = 0.05\n",
    "myeloid_cell = 'gr'\n",
    "lymphoid_cell = 'b'\n",
    "timepoint_col = 'month'\n",
    "\n",
    "young_lineage_bias = agg.filter_lineage_bias_cell_type_ratio_per_mouse(\n",
    "    young_lineage_bias,\n",
    "    timepoint_col,\n",
    "    young_wbc,\n",
    "    b_min_abund,\n",
    "    myeloid_cell=myeloid_cell,\n",
    "    lymphoid_cell=lymphoid_cell,\n",
    ")\n",
    "old_lineage_bias = agg.filter_lineage_bias_cell_type_ratio_per_mouse(\n",
    "    old_lineage_bias,\n",
    "    timepoint_col,\n",
    "    old_wbc,\n",
    "    b_min_abund,\n",
    "    myeloid_cell=myeloid_cell,\n",
    "    lymphoid_cell=lymphoid_cell,\n",
    ")"
   ]
  },
  {
   "cell_type": "code",
   "execution_count": 6,
   "metadata": {},
   "outputs": [
    {
     "name": "stderr",
     "output_type": "stream",
     "text": [
      "/home/sakre/Code/stemcell_aging/venv/lib/python3.7/site-packages/pandas/core/frame.py:6692: FutureWarning: Sorting because non-concatenation axis is not aligned. A future version\n",
      "of pandas will change to not sort by default.\n",
      "\n",
      "To accept the future behavior, pass 'sort=False'.\n",
      "\n",
      "To retain the current behavior and silence the warning, pass 'sort=True'.\n",
      "\n",
      "  sort=sort)\n"
     ]
    }
   ],
   "source": [
    "young_hsc_data = young_abundance[young_abundance.cell_type == 'hsc']\n",
    "old_hsc_data = old_abundance[old_abundance.cell_type == 'hsc']\n",
    "\n",
    "last_young_clones = agg.find_last_clones(\n",
    "    young_lineage_bias,\n",
    "    'day'\n",
    ")\n",
    "labeled_young_last_clones = agg.add_bias_category(\n",
    "    last_young_clones\n",
    ")\n",
    "bias_young_hsc_abundance_df = young_hsc_data.merge(\n",
    "    labeled_young_last_clones[['code', 'mouse_id', 'bias_category_short']],\n",
    "    how='inner',\n",
    "    validate='1:1'\n",
    ").assign(age='young')\n",
    "\n",
    "\n",
    "last_old_clones = agg.find_last_clones(\n",
    "    old_lineage_bias,\n",
    "    'day'\n",
    ")\n",
    "labeled_old_last_clones = agg.add_bias_category(\n",
    "    last_old_clones\n",
    ")\n",
    "bias_old_hsc_abundance_df = old_hsc_data.merge(\n",
    "    labeled_old_last_clones[['code', 'mouse_id', 'bias_category_short']],\n",
    "    how='inner',\n",
    "    validate='1:1'\n",
    ").assign(age='old')\n",
    "\n",
    "hsc_bias_abundance = bias_old_hsc_abundance_df.append(bias_young_hsc_abundance_df)\n",
    "\n"
   ]
  },
  {
   "cell_type": "code",
   "execution_count": 7,
   "metadata": {},
   "outputs": [
    {
     "data": {
      "text/plain": [
       "Text(0.5, 1.0, 'HSC Abundance by Bias at Last Time Point')"
      ]
     },
     "execution_count": 7,
     "metadata": {},
     "output_type": "execute_result"
    },
    {
     "data": {
      "image/png": "[encoded data removed]",
      "text/plain": [
       "<Figure size 864x576 with 1 Axes>"
      ]
     },
     "metadata": {
      "needs_background": "light"
     },
     "output_type": "display_data"
    }
   ],
   "source": [
    "sns.set_context(\n",
    "    'paper',\n",
    "    rc={\n",
    "        'lines.linewidth': 3,\n",
    "        'axes.linewidth': 4,\n",
    "        'axes.labelsize': 20,\n",
    "        'xtick.major.width': 5,\n",
    "        'ytick.major.width': 5,\n",
    "        'ytick.minor.width': 5,\n",
    "        'xtick.labelsize': 20,\n",
    "        'ytick.labelsize': 20,\n",
    "        'figure.titlesize': 'small',\n",
    "        'axes.edgecolor': 'black',\n",
    "        'xtick.color': 'black',\n",
    "        'ytick.color': 'black',\n",
    "        'figure.facecolor': 'white'\n",
    "    }\n",
    "\n",
    "    )\n",
    "COLOR_PALETTES = json.load(open('lib/color_palettes.json', 'r'))\n",
    "cats_order = [\n",
    "    'Ly Biased',\n",
    "    'Balanced',\n",
    "    'My Biased',\n",
    "]\n",
    "unique_cats = list(OrderedDict.fromkeys(cats_order))\n",
    "\n",
    "\n",
    "plt.figure(figsize=(12,8))\n",
    "ax = sns.barplot(\n",
    "    y='percent_engraftment',\n",
    "    x='bias_category_short',\n",
    "    order=unique_cats,\n",
    "    data=hsc_bias_abundance,\n",
    "    hue='age',\n",
    "    palette=COLOR_PALETTES['age']\n",
    ")\n",
    "#ax.set(yscale='log')\n",
    "plt.xlabel('')\n",
    "plt.ylabel('HSC Abundance (% HSCs)')\n",
    "plt.title(\n",
    "    'HSC Abundance by Bias at Last Time Point'\n",
    ")"
   ]
  },
  {
   "cell_type": "code",
   "execution_count": 8,
   "metadata": {},
   "outputs": [
    {
     "name": "stdout",
     "output_type": "stream",
     "text": [
      "\n",
      "Performing Ranksums Test on Old vs Young Mice between age at each Bias Category Short\n",
      "Bias_Category_Short Balanced P-Value: 5.850763552972191e-14 Mean: -0.7348339021739132\n",
      "Bias_Category_Short Ly Biased P-Value: 0.0020349160075549067 Mean: -0.07272125102229259\n",
      "Bias_Category_Short My Biased P-Value: 7.853823787544784e-40 Mean: -0.5703686371681417\n",
      "\n",
      "Performing Ranksums Test on Old vs Young Mice per age between Bias Category Shorts\n",
      "Old Bias Category Short My Biased vs Balanced P-Value: 0.023463995094034698 Mean: 0.2920555150057715\n",
      "Old Bias Category Short Ly Biased vs Balanced P-Value: 0.036218671899627415 Mean: -0.028003194086474753\n",
      "Young Bias Category Short My Biased vs Ly Biased P-Value: 2.7127196056298306e-18 Mean: 0.8177060952380953\n",
      "Young Bias Category Short My Biased vs Balanced P-Value: 0.046673620463531955 Mean: 0.12759025000000002\n",
      "Young Bias Category Short Ly Biased vs Balanced P-Value: 3.631961450444013e-07 Mean: -0.6901158452380953\n",
      "All Bias Category Short Ly Biased vs Balanced P-Value: 0.010796935309145331 Mean: -0.07040421665236052\n"
     ]
    }
   ],
   "source": [
    "import importlib\n",
    "importlib.reload(st)\n",
    "st.ranksums_test_group_time(\n",
    "    data=hsc_bias_abundance,\n",
    "    test_col='percent_engraftment',\n",
    "    timepoint_col='bias_category_short',\n",
    "    overall_context='Old vs Young Mice',\n",
    "    show_ns=False,\n",
    "    group_col='age'\n",
    ")"
   ]
  },
  {
   "cell_type": "code",
   "execution_count": 9,
   "metadata": {},
   "outputs": [
    {
     "ename": "NameError",
     "evalue": "name 'myeloid_hsc_abundance_df' is not defined",
     "output_type": "error",
     "traceback": [
      "\u001b[0;31m---------------------------------------------------------------------------\u001b[0m",
      "\u001b[0;31mNameError\u001b[0m                                 Traceback (most recent call last)",
      "\u001b[0;32m<ipython-input-9-42b490e10496>\u001b[0m in \u001b[0;36m<module>\u001b[0;34m\u001b[0m\n\u001b[1;32m      3\u001b[0m \u001b[0mcolors\u001b[0m\u001b[0;34m=\u001b[0m\u001b[0;34m[\u001b[0m\u001b[0;34m]\u001b[0m\u001b[0;34m\u001b[0m\u001b[0;34m\u001b[0m\u001b[0m\n\u001b[1;32m      4\u001b[0m \u001b[0;32mfor\u001b[0m \u001b[0mbias_cat\u001b[0m \u001b[0;32min\u001b[0m \u001b[0munique_cats\u001b[0m\u001b[0;34m:\u001b[0m\u001b[0;34m\u001b[0m\u001b[0;34m\u001b[0m\u001b[0m\n\u001b[0;32m----> 5\u001b[0;31m     \u001b[0mcats_df\u001b[0m \u001b[0;34m=\u001b[0m \u001b[0mmyeloid_hsc_abundance_df\u001b[0m\u001b[0;34m[\u001b[0m\u001b[0mmyeloid_hsc_abundance_df\u001b[0m\u001b[0;34m.\u001b[0m\u001b[0mbias_category\u001b[0m \u001b[0;34m==\u001b[0m \u001b[0mbias_cat\u001b[0m\u001b[0;34m]\u001b[0m\u001b[0;34m\u001b[0m\u001b[0;34m\u001b[0m\u001b[0m\n\u001b[0m\u001b[1;32m      6\u001b[0m     \u001b[0msems\u001b[0m\u001b[0;34m[\u001b[0m\u001b[0;36m0\u001b[0m\u001b[0;34m]\u001b[0m\u001b[0;34m.\u001b[0m\u001b[0mappend\u001b[0m\u001b[0;34m(\u001b[0m\u001b[0;36m0\u001b[0m\u001b[0;34m)\u001b[0m\u001b[0;34m\u001b[0m\u001b[0;34m\u001b[0m\u001b[0m\n\u001b[1;32m      7\u001b[0m     \u001b[0msems\u001b[0m\u001b[0;34m[\u001b[0m\u001b[0;36m1\u001b[0m\u001b[0;34m]\u001b[0m\u001b[0;34m.\u001b[0m\u001b[0mappend\u001b[0m\u001b[0;34m(\u001b[0m\u001b[0mcats_df\u001b[0m\u001b[0;34m.\u001b[0m\u001b[0mpercent_engraftment\u001b[0m\u001b[0;34m.\u001b[0m\u001b[0msem\u001b[0m\u001b[0;34m(\u001b[0m\u001b[0;34m)\u001b[0m\u001b[0;34m)\u001b[0m\u001b[0;34m\u001b[0m\u001b[0;34m\u001b[0m\u001b[0m\n",
      "\u001b[0;31mNameError\u001b[0m: name 'myeloid_hsc_abundance_df' is not defined"
     ]
    }
   ],
   "source": [
    "sems=[[],[]]\n",
    "means=[]\n",
    "colors=[]\n",
    "for bias_cat in unique_cats:\n",
    "    cats_df = myeloid_hsc_abundance_df[myeloid_hsc_abundance_df.bias_category == bias_cat]\n",
    "    sems[0].append(0)\n",
    "    sems[1].append(cats_df.percent_engraftment.sem())\n",
    "    means.append(cats_df.percent_engraftment.mean())\n",
    "    colors.append(COLOR_PALETTES['bias_category'][bias_cat])\n",
    "\n",
    "coords = np.arange(len(unique_cats)) + 1\n",
    "width = 0.4\n",
    "fig, ax = plt.subplots(figsize=(12,8))\n",
    "ax.bar(\n",
    "    x=coords,\n",
    "    height=means,\n",
    "    width=width,\n",
    "    tick_label=unique_cats,\n",
    "    color=colors,\n",
    "    log=True,\n",
    ")\n",
    "_, caps, _ = ax.errorbar(\n",
    "    coords,\n",
    "    means,\n",
    "    yerr=sems,\n",
    "    color='black',\n",
    "    capsize=10,\n",
    "    capthick=2,\n",
    "    ls='none',\n",
    "    )\n",
    "caps[0].set_marker('_')\n",
    "caps[0].set_markersize(0)"
   ]
  },
  {
   "cell_type": "code",
   "execution_count": null,
   "metadata": {},
   "outputs": [],
   "source": [
    "save_format='png'\n",
    "fname = '/home/sakre/Data/young_mouse_hscs/Graphs/' \\\n",
    "    + 'hsc_abundance_yvo' \\\n",
    "    + '.' + save_format\n",
    "\n",
    "plt.savefig(\n",
    "    fname,\n",
    "    format=save_format,\n",
    "    bbox_inches='tight',\n",
    ")"
   ]
  }
 ],
 "metadata": {
  "kernelspec": {
   "display_name": "Python 3",
   "language": "python",
   "name": "python3"
  },
  "language_info": {
   "codemirror_mode": {
    "name": "ipython",
    "version": 3
   },
   "file_extension": ".py",
   "mimetype": "text/x-python",
   "name": "python",
   "nbconvert_exporter": "python",
   "pygments_lexer": "ipython3",
   "version": "3.7.3"
  }
 },
 "nbformat": 4,
 "nbformat_minor": 4
}
