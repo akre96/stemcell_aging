{
 "cells": [
  {
   "cell_type": "code",
   "execution_count": 6,
   "metadata": {},
   "outputs": [],
   "source": [
    "import os\n",
    "import json\n",
    "from collections import OrderedDict\n",
    "import pandas as pd\n",
    "import seaborn as sns\n",
    "import matplotlib.pyplot as plt\n",
    "import aggregate_functions as agg\n",
    "import plotting_functions as pf\n",
    "import parse_facs_data as pfd\n",
    "import statistical_tests as st\n",
    "import importlib"
   ]
  },
  {
   "cell_type": "code",
   "execution_count": 7,
   "metadata": {},
   "outputs": [
    {
     "name": "stderr",
     "output_type": "stream",
     "text": [
      "/Users/akre96/Documents/github/stemcell_aging/venv/lib/python3.6/site-packages/IPython/core/interactiveshell.py:3057: DtypeWarning: Columns (6,7) have mixed types. Specify dtype option on import or set low_memory=False.\n",
      "  interactivity=interactivity, compiler=compiler, result=result)\n"
     ]
    }
   ],
   "source": [
    "young_data_root = '~/Data/HSC_aging_project/young_mice'\n",
    "young_lb_file = os.path.join(young_data_root, 'lineage_bias/lineage_bias.csv')\n",
    "young_abundance = pd.read_csv(\n",
    "    os.path.join(young_data_root, \"Ania_M_allAnia 10x hsc 8mice rerun8mice_Ania_percent-engraftment_NO filter_081019_long.csv\")\n",
    ")\n",
    "young_lineage_bias = pd.read_csv(young_lb_file)\n",
    "\n",
    "old_data_root = '~/Data/HSC_aging_project/aging_and_10x'\n",
    "old_lb_file = os.path.join(old_data_root, 'lineage_bias/lineage_bias.csv')\n",
    "old_abundance = pd.read_csv(\n",
    "    os.path.join(old_data_root, \"Ania_M_all OT2.0 rerun_percent-engraftment_NO filter_080819_long.csv\")\n",
    ")\n",
    "old_lineage_bias = pd.read_csv(old_lb_file)"
   ]
  },
  {
   "cell_type": "code",
   "execution_count": 14,
   "metadata": {},
   "outputs": [
    {
     "name": "stdout",
     "output_type": "stream",
     "text": [
      "Filters: {'any': 0.01}\n",
      "Change in length of abundanc post filtering: 0\n",
      "Filters: {'any': 0.01}\n",
      "Change in length of abundanc post filtering: 0\n"
     ]
    }
   ],
   "source": [
    "young_abundance = agg.filter_clones_threshold_anytime(\n",
    "        young_abundance,\n",
    "        {'any': 0.01},\n",
    "        analyzed_cell_types=young_abundance.cell_type.unique(),\n",
    "        filter_exempt_cell_types=['hsc']\n",
    "    )\n",
    "old_abundance = agg.filter_clones_threshold_anytime(\n",
    "        old_abundance,\n",
    "        {'any': 0.01},\n",
    "        analyzed_cell_types=old_abundance.cell_type.unique(),\n",
    "        filter_exempt_cell_types=['hsc']\n",
    "    )\n",
    "old_abundance['month'] = agg.day_to_month(old_abundance['day'])\n",
    "young_abundance['month'] = agg.day_to_month(young_abundance['day'])"
   ]
  },
  {
   "cell_type": "code",
   "execution_count": 9,
   "metadata": {},
   "outputs": [],
   "source": [
    "young_donor_file = os.path.join(\n",
    "    young_data_root,\n",
    "    'donor YO OTY 081019.txt'\n",
    ")\n",
    "young_gfp_file = os.path.join(\n",
    "    young_data_root,\n",
    "    'GFP YO OT 070819 updtd 081019 step7.txt'\n",
    ")\n",
    "young_wbc_file = os.path.join(\n",
    "    young_data_root,\n",
    "    'WBC 081019 step7.txt'\n",
    ")\n",
    "young_wbc = pfd.parse_wbc_count_file(\n",
    "    young_wbc_file\n",
    ")\n",
    "\n",
    "\n",
    "old_donor_file = os.path.join(\n",
    "    old_data_root,\n",
    "    'aging_10x_Donor.txt'\n",
    ")\n",
    "\n",
    "old_gfp_file = os.path.join(\n",
    "    old_data_root,\n",
    "    'aging_10x_GFP.txt'\n",
    ")\n",
    "\n",
    "old_wbc_file = os.path.join(\n",
    "    old_data_root,\n",
    "    'aging_10x_WBC.txt'\n",
    ")\n",
    "old_wbc = pfd.parse_wbc_count_file(\n",
    "    old_wbc_file\n",
    ")"
   ]
  },
  {
   "cell_type": "code",
   "execution_count": 10,
   "metadata": {},
   "outputs": [
    {
     "name": "stdout",
     "output_type": "stream",
     "text": [
      "\n",
      " Filtering Lineage Bias Ratio Based on Gr/B Ratio Per Mouse at First Time Point\n",
      "Length Before Filtering:  3018\n",
      "Length After Filtering:  463 \n",
      "\n",
      "\n",
      " Filtering Lineage Bias Ratio Based on Gr/B Ratio Per Mouse at First Time Point\n",
      "Length Before Filtering:  60958\n",
      "Length After Filtering:  6026 \n",
      "\n"
     ]
    }
   ],
   "source": [
    "importlib.reload(agg)\n",
    "b_min_abund = 0.05\n",
    "myeloid_cell = 'gr'\n",
    "lymphoid_cell = 'b'\n",
    "timepoint_col = 'month'\n",
    "\n",
    "young_lineage_bias = agg.filter_lineage_bias_cell_type_ratio_per_mouse(\n",
    "    young_lineage_bias,\n",
    "    timepoint_col,\n",
    "    young_wbc,\n",
    "    b_min_abund,\n",
    "    myeloid_cell=myeloid_cell,\n",
    "    lymphoid_cell=lymphoid_cell,\n",
    ")\n",
    "old_lineage_bias = agg.filter_lineage_bias_cell_type_ratio_per_mouse(\n",
    "    old_lineage_bias,\n",
    "    timepoint_col,\n",
    "    old_wbc,\n",
    "    b_min_abund,\n",
    "    myeloid_cell=myeloid_cell,\n",
    "    lymphoid_cell=lymphoid_cell,\n",
    ")"
   ]
  },
  {
   "cell_type": "code",
   "execution_count": 11,
   "metadata": {},
   "outputs": [
    {
     "name": "stderr",
     "output_type": "stream",
     "text": [
      "/Users/akre96/Documents/github/stemcell_aging/venv/lib/python3.6/site-packages/pandas/core/frame.py:6692: FutureWarning: Sorting because non-concatenation axis is not aligned. A future version\n",
      "of pandas will change to not sort by default.\n",
      "\n",
      "To accept the future behavior, pass 'sort=False'.\n",
      "\n",
      "To retain the current behavior and silence the warning, pass 'sort=True'.\n",
      "\n",
      "  sort=sort)\n"
     ]
    }
   ],
   "source": [
    "young_hsc_data = young_abundance[young_abundance.cell_type == 'hsc']\n",
    "old_hsc_data = old_abundance[old_abundance.cell_type == 'hsc']\n",
    "\n",
    "last_young_clones = agg.find_last_clones(\n",
    "    young_lineage_bias,\n",
    "    'day'\n",
    ")\n",
    "labeled_young_last_clones = agg.add_bias_category(\n",
    "    last_young_clones\n",
    ")\n",
    "bias_young_hsc_abundance_df = young_hsc_data.merge(\n",
    "    labeled_young_last_clones[['code', 'mouse_id', 'bias_category_short']],\n",
    "    how='inner',\n",
    "    validate='1:1'\n",
    ").assign(age='young')\n",
    "\n",
    "\n",
    "last_old_clones = agg.find_last_clones(\n",
    "    old_lineage_bias,\n",
    "    'day'\n",
    ")\n",
    "labeled_old_last_clones = agg.add_bias_category(\n",
    "    last_old_clones\n",
    ")\n",
    "bias_old_hsc_abundance_df = old_hsc_data.merge(\n",
    "    labeled_old_last_clones[['code', 'mouse_id', 'bias_category_short']],\n",
    "    how='inner',\n",
    "    validate='1:1'\n",
    ").assign(age='old')\n",
    "\n",
    "hsc_bias_abundance = bias_old_hsc_abundance_df.append(bias_young_hsc_abundance_df)\n",
    "\n"
   ]
  },
  {
   "cell_type": "code",
   "execution_count": 36,
   "metadata": {},
   "outputs": [
    {
     "data": {
      "text/plain": [
       "Text(0.5, 1.0, 'HSC Abundance by Bias at Last Time Point')"
      ]
     },
     "execution_count": 36,
     "metadata": {},
     "output_type": "execute_result"
    },
    {
     "data": {
      "image/png": "[encoded data removed]",
      "text/plain": [
       "<Figure size 864x576 with 1 Axes>"
      ]
     },
     "metadata": {
      "needs_background": "light"
     },
     "output_type": "display_data"
    }
   ],
   "source": [
    "sns.set_context(\n",
    "    'paper',\n",
    "    rc={\n",
    "        'lines.linewidth': 3,\n",
    "        'axes.linewidth': 4,\n",
    "        'axes.labelsize': 20,\n",
    "        'xtick.major.width': 5,\n",
    "        'ytick.major.width': 5,\n",
    "        'ytick.minor.width': 5,\n",
    "        'xtick.labelsize': 20,\n",
    "        'ytick.labelsize': 20,\n",
    "        'figure.titlesize': 'small',\n",
    "        'axes.edgecolor': 'black',\n",
    "        'xtick.color': 'black',\n",
    "        'ytick.color': 'black',\n",
    "        'figure.facecolor': 'white'\n",
    "    }\n",
    "\n",
    "    )\n",
    "COLOR_PALETTES = json.load(open('lib/color_palettes.json', 'r'))\n",
    "cats_order = [\n",
    "    'Ly Biased',\n",
    "    'Balanced',\n",
    "    'My Biased',\n",
    "]\n",
    "unique_cats = list(OrderedDict.fromkeys(cats_order))\n",
    "\n",
    "\n",
    "plt.figure(figsize=(12,8))\n",
    "ax = sns.barplot(\n",
    "    y='percent_engraftment',\n",
    "    x='bias_category_short',\n",
    "    order=unique_cats,\n",
    "    data=hsc_bias_abundance,\n",
    "    hue='age',\n",
    "    palette=COLOR_PALETTES['age']\n",
    ")\n",
    "#ax.set(yscale='log')\n",
    "plt.xlabel('')\n",
    "plt.ylabel('HSC Abundance (% HSCs)')\n",
    "plt.title(\n",
    "    'HSC Abundance by Bias at Last Time Point'\n",
    ")"
   ]
  },
  {
   "cell_type": "code",
   "execution_count": 8,
   "metadata": {},
   "outputs": [
    {
     "name": "stdout",
     "output_type": "stream",
     "text": [
      "\n",
      "Performing Ranksums Test on Old vs Young Mice between age at each Bias Category Short\n",
      "Bias_Category_Short Balanced P-Value: 5.850763552972191e-14 Mean: -0.7348339021739132\n",
      "Bias_Category_Short Ly Biased P-Value: 0.0020349160075549067 Mean: -0.07272125102229259\n",
      "Bias_Category_Short My Biased P-Value: 7.853823787544784e-40 Mean: -0.5703686371681415\n",
      "\n",
      "Performing Ranksums Test on Old vs Young Mice per age between Bias Category Shorts\n",
      "Old Bias Category Short Balanced vs My Biased P-Value: 0.023463995094034698 Mean: -0.2920555150057715\n",
      "Old Bias Category Short Balanced vs Ly Biased P-Value: 0.036218671899627415 Mean: 0.028003194086474767\n",
      "Young Bias Category Short Balanced vs My Biased P-Value: 0.046673620463531955 Mean: -0.1275902499999998\n",
      "Young Bias Category Short Balanced vs Ly Biased P-Value: 3.631961450444013e-07 Mean: 0.6901158452380953\n",
      "Young Bias Category Short My Biased vs Ly Biased P-Value: 2.7127196056298306e-18 Mean: 0.8177060952380951\n",
      "All Bias Category Short Balanced vs Ly Biased P-Value: 0.010796935309145331 Mean: 0.07040421665236052\n"
     ]
    }
   ],
   "source": [
    "import importlib\n",
    "importlib.reload(st)\n",
    "st.ranksums_test_group_time(\n",
    "    data=hsc_bias_abundance,\n",
    "    test_col='percent_engraftment',\n",
    "    timepoint_col='bias_category_short',\n",
    "    overall_context='Old vs Young Mice',\n",
    "    show_ns=False,\n",
    "    group_col='age'\n",
    ")"
   ]
  },
  {
   "cell_type": "code",
   "execution_count": 11,
   "metadata": {},
   "outputs": [
    {
     "data": {
      "text/plain": [
       "<Figure size 432x288 with 0 Axes>"
      ]
     },
     "metadata": {},
     "output_type": "display_data"
    }
   ],
   "source": [
    "save_format='png'\n",
    "fname = '/Users/akre96/Data/HSC_aging_project/young_mice/Graphs/' \\\n",
    "    + 'hsc_abundance_yvo' \\\n",
    "    + '.' + save_format\n",
    "\n",
    "plt.savefig(\n",
    "    fname,\n",
    "    format=save_format,\n",
    "    bbox_inches='tight',\n",
    ")"
   ]
  },
  {
   "cell_type": "code",
   "execution_count": 22,
   "metadata": {},
   "outputs": [],
   "source": [
    "import scipy.stats as stats\n",
    "import numpy as np"
   ]
  },
  {
   "cell_type": "code",
   "execution_count": 29,
   "metadata": {},
   "outputs": [
    {
     "name": "stdout",
     "output_type": "stream",
     "text": [
      "\t REMOVING MONTHS: 17, 6\n"
     ]
    }
   ],
   "source": [
    "filt_old_abund = agg.remove_month_17_and_6(\n",
    "    old_abundance,\n",
    "    timepoint_col\n",
    ")\n",
    "old_hsc = filt_old_abund[filt_old_abund.cell_type == 'hsc'].rename(columns={'percent_engraftment': 'hsc_percent_engraftment'})\n",
    "old_hsc = old_hsc[old_hsc.hsc_percent_engraftment > 0]\n",
    "old_not_hsc = filt_old_abund[filt_old_abund.cell_type != 'hsc']\n",
    "\n",
    "old_with_hsc = old_not_hsc.merge(\n",
    "    old_hsc[['code','mouse_id', 'hsc_percent_engraftment']],\n",
    "    on=['code', 'mouse_id'],\n",
    "    how='inner',\n",
    "    validate='m:1'\n",
    ")\n",
    "\n",
    "young_hsc = young_abundance[young_abundance.cell_type == 'hsc'].rename(columns={'percent_engraftment': 'hsc_percent_engraftment'})\n",
    "young_hsc = young_hsc[young_hsc.hsc_percent_engraftment > 0]\n",
    "young_not_hsc = young_abundance[young_abundance.cell_type != 'hsc']\n",
    "\n",
    "young_with_hsc = young_not_hsc.merge(\n",
    "    young_hsc[['code','mouse_id', 'hsc_percent_engraftment']],\n",
    "    on=['code', 'mouse_id'],\n",
    "    how='inner',\n",
    "    validate='m:1'\n",
    ")\n",
    "young_with_hsc['age'] = 'young'\n",
    "old_with_hsc['age'] = 'old'\n",
    "with_hsc_data_df = young_with_hsc.append(old_with_hsc, ignore_index=True)"
   ]
  },
  {
   "cell_type": "code",
   "execution_count": 59,
   "metadata": {},
   "outputs": [],
   "source": [
    "pearson_df = pd.DataFrame()\n",
    "for (cell_type, mouse_id, age, timepoint), t_df in with_hsc_data_df.groupby(['cell_type', 'mouse_id', 'age', timepoint_col]):\n",
    "    pearson_r, p_value = stats.pearsonr(\n",
    "        np.log10(1 + (t_df['percent_engraftment'] * 1000)),\n",
    "        np.log10(1 + (t_df['hsc_percent_engraftment'] * 1000))\n",
    "    )\n",
    "    p_data = {\n",
    "        'mouse_id': [mouse_id],\n",
    "        'cell_type': [cell_type],\n",
    "        timepoint_col: [timepoint],\n",
    "        'pearson_r': [pearson_r],\n",
    "        'p_value': [p_value],\n",
    "        'nlt_p_value': [-1 * np.log10(p_value)],\n",
    "        'age': [age]\n",
    "    }\n",
    "    pearson_df = pearson_df.append(pd.DataFrame.from_dict(p_data))\n"
   ]
  },
  {
   "cell_type": "code",
   "execution_count": 60,
   "metadata": {},
   "outputs": [
    {
     "data": {
      "text/html": [
       "<div>\n",
       "<style scoped>\n",
       "    .dataframe tbody tr th:only-of-type {\n",
       "        vertical-align: middle;\n",
       "    }\n",
       "\n",
       "    .dataframe tbody tr th {\n",
       "        vertical-align: top;\n",
       "    }\n",
       "\n",
       "    .dataframe thead th {\n",
       "        text-align: right;\n",
       "    }\n",
       "</style>\n",
       "<table border=\"1\" class=\"dataframe\">\n",
       "  <thead>\n",
       "    <tr style=\"text-align: right;\">\n",
       "      <th></th>\n",
       "      <th>mouse_id</th>\n",
       "      <th>cell_type</th>\n",
       "      <th>month</th>\n",
       "      <th>pearson_r</th>\n",
       "      <th>p_value</th>\n",
       "      <th>nlt_p_value</th>\n",
       "      <th>age</th>\n",
       "    </tr>\n",
       "  </thead>\n",
       "  <tbody>\n",
       "    <tr>\n",
       "      <th>0</th>\n",
       "      <td>M2012</td>\n",
       "      <td>b</td>\n",
       "      <td>9</td>\n",
       "      <td>-0.062648</td>\n",
       "      <td>0.776432</td>\n",
       "      <td>0.109897</td>\n",
       "      <td>old</td>\n",
       "    </tr>\n",
       "    <tr>\n",
       "      <th>0</th>\n",
       "      <td>M2012</td>\n",
       "      <td>b</td>\n",
       "      <td>12</td>\n",
       "      <td>-0.001232</td>\n",
       "      <td>0.995547</td>\n",
       "      <td>0.001938</td>\n",
       "      <td>old</td>\n",
       "    </tr>\n",
       "    <tr>\n",
       "      <th>0</th>\n",
       "      <td>M2012</td>\n",
       "      <td>b</td>\n",
       "      <td>15</td>\n",
       "      <td>-0.133699</td>\n",
       "      <td>0.543069</td>\n",
       "      <td>0.265145</td>\n",
       "      <td>old</td>\n",
       "    </tr>\n",
       "    <tr>\n",
       "      <th>0</th>\n",
       "      <td>M2059</td>\n",
       "      <td>b</td>\n",
       "      <td>4</td>\n",
       "      <td>-0.167116</td>\n",
       "      <td>0.246057</td>\n",
       "      <td>0.608965</td>\n",
       "      <td>old</td>\n",
       "    </tr>\n",
       "    <tr>\n",
       "      <th>0</th>\n",
       "      <td>M2059</td>\n",
       "      <td>b</td>\n",
       "      <td>9</td>\n",
       "      <td>-0.118141</td>\n",
       "      <td>0.413858</td>\n",
       "      <td>0.383149</td>\n",
       "      <td>old</td>\n",
       "    </tr>\n",
       "  </tbody>\n",
       "</table>\n",
       "</div>"
      ],
      "text/plain": [
       "  mouse_id cell_type  month  pearson_r   p_value  nlt_p_value  age\n",
       "0    M2012         b      9  -0.062648  0.776432     0.109897  old\n",
       "0    M2012         b     12  -0.001232  0.995547     0.001938  old\n",
       "0    M2012         b     15  -0.133699  0.543069     0.265145  old\n",
       "0    M2059         b      4  -0.167116  0.246057     0.608965  old\n",
       "0    M2059         b      9  -0.118141  0.413858     0.383149  old"
      ]
     },
     "execution_count": 60,
     "metadata": {},
     "output_type": "execute_result"
    }
   ],
   "source": [
    "pearson_df.head()"
   ]
  },
  {
   "cell_type": "code",
   "execution_count": 61,
   "metadata": {},
   "outputs": [
    {
     "data": {
      "text/plain": [
       "<matplotlib.axes._subplots.AxesSubplot at 0x12e62d198>"
      ]
     },
     "execution_count": 61,
     "metadata": {},
     "output_type": "execute_result"
    },
    {
     "data": {
      "image/png": "[encoded data removed]",
      "text/plain": [
       "<Figure size 432x288 with 1 Axes>"
      ]
     },
     "metadata": {
      "needs_background": "light"
     },
     "output_type": "display_data"
    }
   ],
   "source": [
    "last_df = agg.find_last_clones(\n",
    "    pearson_df,\n",
    "    timepoint_col\n",
    ")\n",
    "sns.barplot(\n",
    "    x='cell_type',\n",
    "    y='pearson_r',\n",
    "    hue='age',\n",
    "    data=last_df\n",
    ")"
   ]
  },
  {
   "cell_type": "code",
   "execution_count": 68,
   "metadata": {},
   "outputs": [
    {
     "data": {
      "text/plain": [
       "<matplotlib.axes._subplots.AxesSubplot at 0x12e75a0f0>"
      ]
     },
     "execution_count": 68,
     "metadata": {},
     "output_type": "execute_result"
    },
    {
     "data": {
      "image/png": "[encoded data removed]",
      "text/plain": [
       "<Figure size 432x288 with 1 Axes>"
      ]
     },
     "metadata": {
      "needs_background": "light"
     },
     "output_type": "display_data"
    }
   ],
   "source": [
    "sns.barplot(\n",
    "    x='cell_type',\n",
    "    y='nlt_p_value',\n",
    "    hue='age',\n",
    "    data=last_df\n",
    ")"
   ]
  },
  {
   "cell_type": "code",
   "execution_count": 63,
   "metadata": {},
   "outputs": [
    {
     "data": {
      "image/png": "[encoded data removed]",
      "text/plain": [
       "<Figure size 432x360 with 1 Axes>"
      ]
     },
     "metadata": {
      "needs_background": "light"
     },
     "output_type": "display_data"
    }
   ],
   "source": [
    "coords = np.arange(2)\n",
    "width = 0.4\n",
    "sems={}\n",
    "means={}\n",
    "cell_types = ['gr', 'b']\n",
    "colors={}\n",
    "value_col = 'pearson_r'\n",
    "fig, ax = plt.subplots(figsize=(6,5))\n",
    "i = -1\n",
    "for age in ['young', 'old']:\n",
    "    means[age]=[]\n",
    "    colors[age]=[]\n",
    "    sems[age] = [[], []]\n",
    "    g_df = last_df[last_df.age == age]\n",
    "    for c in cell_types:\n",
    "        t_df = g_df[g_df['cell_type'] == c]\n",
    "        sems[age][0].append(0)\n",
    "        sems[age][1].append(t_df[value_col].sem())\n",
    "        means[age].append(t_df[value_col].mean())\n",
    "        colors[age].append(COLOR_PALETTES['age'][age])\n",
    "        \n",
    "    ax.bar(\n",
    "        x=coords + (i*width/2),\n",
    "        height=means[age],\n",
    "        width=width,\n",
    "        tick_label=cell_types,\n",
    "        color=colors[age],\n",
    "    )\n",
    "\n",
    "    _, caps, _ = ax.errorbar(\n",
    "        coords + (i*width/2),\n",
    "        means[age],\n",
    "        yerr=sems[age],\n",
    "        color='black',\n",
    "        capsize=10,\n",
    "        capthick=2,\n",
    "        ls='none',\n",
    "        )\n",
    "    i = i * -1\n",
    "    caps[0].set_marker('_')\n",
    "    caps[0].set_markersize(0)\n",
    "ax.set_ylabel(value_col)\n",
    "sns.despine()"
   ]
  },
  {
   "cell_type": "code",
   "execution_count": 67,
   "metadata": {},
   "outputs": [
    {
     "name": "stdout",
     "output_type": "stream",
     "text": [
      "young gr 14.24764758383664\n",
      "young b 3.8340193787344283\n",
      "old gr 16.66602769517838\n",
      "old b 5.613799822057918\n"
     ]
    },
    {
     "data": {
      "image/png": "[encoded data removed]",
      "text/plain": [
       "<Figure size 432x360 with 1 Axes>"
      ]
     },
     "metadata": {
      "needs_background": "light"
     },
     "output_type": "display_data"
    }
   ],
   "source": [
    "coords = np.arange(2)\n",
    "width = 0.4\n",
    "sems={}\n",
    "means={}\n",
    "cell_types = ['gr', 'b']\n",
    "colors={}\n",
    "value_col = 'nlt_p_value'\n",
    "fig, ax = plt.subplots(figsize=(6,5))\n",
    "i = -1\n",
    "for age in ['young', 'old']:\n",
    "    means[age]=[]\n",
    "    colors[age]=[]\n",
    "    sems[age] = [[], []]\n",
    "    g_df = last_df[last_df.age == age]\n",
    "    for c in cell_types:\n",
    "        t_df = g_df[g_df['cell_type'] == c]\n",
    "        sems[age][0].append(0)\n",
    "        sems[age][1].append(t_df[value_col].sem())\n",
    "        means[age].append(t_df[value_col].mean())\n",
    "        colors[age].append(COLOR_PALETTES['age'][age])\n",
    "        print(age, c, t_df[value_col].mean())\n",
    "        \n",
    "    ax.bar(\n",
    "        x=coords + (i*width/2),\n",
    "        height=means[age],\n",
    "        width=width,\n",
    "        tick_label=cell_types,\n",
    "        color=colors[age],\n",
    "    )\n",
    "\n",
    "    _, caps, _ = ax.errorbar(\n",
    "        coords + (i*width/2),\n",
    "        means[age],\n",
    "        yerr=sems[age],\n",
    "        color='black',\n",
    "        capsize=10,\n",
    "        capthick=2,\n",
    "        ls='none',\n",
    "        )\n",
    "    i = i * -1\n",
    "    caps[0].set_marker('_')\n",
    "    caps[0].set_markersize(0)\n",
    "ax.set_ylabel(value_col)\n",
    "sns.despine()"
   ]
  },
  {
   "cell_type": "code",
   "execution_count": null,
   "metadata": {},
   "outputs": [],
   "source": []
  }
 ],
 "metadata": {
  "kernelspec": {
   "display_name": "Python 3",
   "language": "python",
   "name": "python3"
  },
  "language_info": {
   "codemirror_mode": {
    "name": "ipython",
    "version": 3
   },
   "file_extension": ".py",
   "mimetype": "text/x-python",
   "name": "python",
   "nbconvert_exporter": "python",
   "pygments_lexer": "ipython3",
   "version": "3.6.0"
  }
 },
 "nbformat": 4,
 "nbformat_minor": 4
}
