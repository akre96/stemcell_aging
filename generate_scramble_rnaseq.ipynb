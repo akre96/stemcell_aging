{
 "cells": [
  {
   "cell_type": "code",
   "execution_count": 3,
   "metadata": {},
   "outputs": [],
   "source": [
    "import random\n",
    "import os\n",
    "import pandas as pd\n",
    "import progressbar\n",
    "import time"
   ]
  },
  {
   "cell_type": "markdown",
   "metadata": {},
   "source": [
    "## Aging Data"
   ]
  },
  {
   "cell_type": "code",
   "execution_count": 2,
   "metadata": {},
   "outputs": [],
   "source": [
    "scramble_output_dir = '/Users/akre96/Data/HSC_aging_project/aging_and_10x/rna_seq/scrambles'\n",
    "normalized_rna_seq_input_dir = '/Users/akre96/Data/HSC_aging_project/aging_and_10x/rna_seq/experiments/normalized'\n",
    "bridged_output_dir = '/Users/akre96/Data/HSC_aging_project/aging_and_10x/rna_seq/experiments/bridged'\n",
    "\n",
    "technical_replicates = [\n",
    "    'AN8',\n",
    "    'AN9'\n",
    "]\n",
    "n_scrambles = 5"
   ]
  },
  {
   "cell_type": "markdown",
   "metadata": {},
   "source": [
    "### Bridging Data by matching cell barcodes (cell marker via 10x) to tracking barcodes (clone marker)"
   ]
  },
  {
   "cell_type": "code",
   "execution_count": 5,
   "metadata": {},
   "outputs": [
    {
     "name": "stdout",
     "output_type": "stream",
     "text": [
      "Working on AN8\n",
      "\t...Importing Normalized Matrix\n",
      "\t...Shape Before Bridge: (4303, 10891)\n",
      "\t...Importing Bridge\n",
      "\t...Merging Bridge, shape: (51, 3)\n",
      "\t...Saving Bridged Data\n",
      "\t...Shape After Bridge: (51, 10893)\n",
      "Working on AN9\n",
      "\t...Importing Normalized Matrix\n",
      "\t...Shape Before Bridge: (5609, 11707)\n",
      "\t...Importing Bridge\n",
      "\t...Merging Bridge, shape: (261, 3)\n",
      "\t...Saving Bridged Data\n",
      "\t...Shape After Bridge: (258, 11709)\n",
      "Done!\n"
     ]
    }
   ],
   "source": [
    "for replicate in technical_replicates:\n",
    "    print('Working on', replicate)\n",
    "    print('\\t...Importing Normalized Matrix')\n",
    "    matrix_file_name = os.path.join(\n",
    "        normalized_rna_seq_input_dir,\n",
    "        replicate + '_normalized-matrix.csv'\n",
    "    )\n",
    "    rna_matrix = pd.read_csv(matrix_file_name)\n",
    "    print('\\t...Shape Before Bridge:', rna_matrix.shape)\n",
    "\n",
    "    rna_matrix['CBC'] = rna_matrix['Unnamed: 0'].str.split('-').str[0]\n",
    "\n",
    "    print('\\t...Importing Bridge')\n",
    "\n",
    "    bridge_file = os.path.join(\n",
    "        normalized_rna_seq_input_dir,\n",
    "        replicate + '_bridge.txt'\n",
    "    )\n",
    "    bridge = pd.read_csv(bridge_file, sep='\\t', header=None, names=['CBC', 'TBC', 'n'])\n",
    "    \n",
    "    print('\\t...Merging Bridge, shape:', bridge.shape)\n",
    "    rna_matrix = rna_matrix.merge(\n",
    "        bridge,\n",
    "        how='inner',\n",
    "        validate='m:1'\n",
    "    )\n",
    "    first_cols = ['CBC', 'TBC', 'n']\n",
    "    gene_cols = [c for c in rna_matrix.columns if c not in first_cols + ['Unnamed: 0']]\n",
    "    col_order = first_cols + gene_cols\n",
    "    rna_matrix = rna_matrix[col_order]\n",
    "    bridged_matrix_filename = os.path.join(\n",
    "        bridged_output_dir,\n",
    "        replicate + '_bridged.csv'\n",
    "    )\n",
    "    \n",
    "    print('\\t...Saving Bridged Data')\n",
    "    print('\\t...Shape After Bridge:', rna_matrix.shape)\n",
    "    rna_matrix.to_csv(bridged_matrix_filename, index=False)\n",
    "print('Done!')"
   ]
  },
  {
   "cell_type": "markdown",
   "metadata": {},
   "source": [
    "### Generating Scrambles on bridged data"
   ]
  },
  {
   "cell_type": "code",
   "execution_count": 9,
   "metadata": {},
   "outputs": [
    {
     "name": "stdout",
     "output_type": "stream",
     "text": [
      "Scrambling Run: AN8\n",
      "\t...Scramble 0\n",
      "\t...Scramble 1\n",
      "\t...Scramble 2\n",
      "\t...Scramble 3\n",
      "\t...Scramble 4\n",
      "Scrambling Run: AN9\n",
      "\t...Scramble 0\n",
      "\t...Scramble 1\n",
      "\t...Scramble 2\n",
      "\t...Scramble 3\n",
      "\t...Scramble 4\n",
      "Done!\n",
      "Time Elapsed: 24 seconds\n"
     ]
    }
   ],
   "source": [
    "start = time.process_time()\n",
    "for fname in os.listdir(bridged_output_dir):\n",
    "    if fname.split('.')[-1] != 'csv':\n",
    "        continue\n",
    "    replicate = fname.split('_')[0]\n",
    "    print('Scrambling Run:', replicate)\n",
    "\n",
    "    mapped_matrix = pd.read_csv(\n",
    "        os.path.join(\n",
    "            bridged_output_dir,\n",
    "            fname    \n",
    "        )\n",
    "    )\n",
    "\n",
    "    cells = mapped_matrix['CBC'].unique()\n",
    "    clones = mapped_matrix['TBC'].unique().tolist()\n",
    "\n",
    "    for i in range(n_scrambles):\n",
    "        scramble_clones = []\n",
    "        print('\\t...Scramble', i)\n",
    "        for cell in cells:\n",
    "            rand_clone = random.sample(clones, 1)[0]\n",
    "            scramble_clones.append(rand_clone)\n",
    "\n",
    "        scramble_matrix = mapped_matrix.copy()\n",
    "        scramble_matrix['TBC'] = scramble_clones\n",
    "\n",
    "        scramble_file = os.path.join(\n",
    "            scramble_output_dir,\n",
    "            replicate + '_scramble' + '-' + str(i) + '.csv'\n",
    "        )\n",
    "        scramble_matrix.to_csv(scramble_file, index=False)\n",
    "print('Done!')\n",
    "print('Time Elapsed:', round(time.process_time() - start), 'seconds')"
   ]
  },
  {
   "cell_type": "markdown",
   "metadata": {},
   "source": [
    "## Serial Transplant Data"
   ]
  },
  {
   "cell_type": "code",
   "execution_count": 6,
   "metadata": {},
   "outputs": [],
   "source": [
    "scramble_output_dir = '/Users/akre96/Data/HSC_aging_project/serial_transplant/rna_seq/scrambles'\n",
    "normalized_rna_seq_input_dir = '/Users/akre96/Data/HSC_aging_project/serial_transplant/rna_seq/experiments/normalized'\n",
    "bridged_output_dir = '/Users/akre96/Data/HSC_aging_project/serial_transplant/rna_seq/experiments/bridged'\n"
   ]
  },
  {
   "cell_type": "code",
   "execution_count": 7,
   "metadata": {},
   "outputs": [],
   "source": [
    "technical_replicates = [\n",
    "    'AN6',\n",
    "    'AN7'\n",
    "]\n",
    "n_scrambles = 5"
   ]
  },
  {
   "cell_type": "markdown",
   "metadata": {},
   "source": [
    "### Bridge Cell Barcodes to Tracking Barcodes in RNA Seq Data and Save bridged CSV"
   ]
  },
  {
   "cell_type": "code",
   "execution_count": 8,
   "metadata": {},
   "outputs": [
    {
     "name": "stdout",
     "output_type": "stream",
     "text": [
      "Working on AN6\n",
      "\t...Importing Normalized Matrix\n",
      "\t...Shape Before Bridge: (9430, 12166)\n",
      "\t...Importing Bridge\n",
      "\t...Merging Bridge, shape: (3466, 3)\n",
      "\t...Saving Bridged Data\n",
      "\t...Shape After Bridge: (3446, 12168)\n",
      "Working on AN7\n",
      "\t...Importing Normalized Matrix\n",
      "\t...Shape Before Bridge: (2865, 12201)\n",
      "\t...Importing Bridge\n",
      "\t...Merging Bridge, shape: (1071, 3)\n",
      "\t...Saving Bridged Data\n",
      "\t...Shape After Bridge: (1060, 12203)\n",
      "Done!\n"
     ]
    }
   ],
   "source": [
    "for replicate in technical_replicates:\n",
    "    print('Working on', replicate)\n",
    "    print('\\t...Importing Normalized Matrix')\n",
    "    matrix_file_name = os.path.join(\n",
    "        normalized_rna_seq_input_dir,\n",
    "        replicate + '_normalized-matrix.csv'\n",
    "    )\n",
    "    rna_matrix = pd.read_csv(matrix_file_name)\n",
    "    print('\\t...Shape Before Bridge:', rna_matrix.shape)\n",
    "\n",
    "    rna_matrix['CBC'] = rna_matrix['Unnamed: 0'].str.split('-').str[0]\n",
    "\n",
    "    print('\\t...Importing Bridge')\n",
    "\n",
    "    bridge_file = os.path.join(\n",
    "        normalized_rna_seq_input_dir,\n",
    "        replicate + '_bridge.txt'\n",
    "    )\n",
    "    bridge = pd.read_csv(bridge_file, sep='\\t', header=None, names=['CBC', 'TBC', 'n'])\n",
    "    \n",
    "    print('\\t...Merging Bridge, shape:', bridge.shape)\n",
    "    rna_matrix = rna_matrix.merge(\n",
    "        bridge,\n",
    "        how='inner',\n",
    "        validate='m:1'\n",
    "    )\n",
    "    first_cols = ['CBC', 'TBC', 'n']\n",
    "    gene_cols = [c for c in rna_matrix.columns if c not in first_cols + ['Unnamed: 0']]\n",
    "    col_order = first_cols + gene_cols\n",
    "    rna_matrix = rna_matrix[col_order]\n",
    "    bridged_matrix_filename = os.path.join(\n",
    "        bridged_output_dir,\n",
    "        replicate + '_bridged.csv'\n",
    "    )\n",
    "    \n",
    "    print('\\t...Saving Bridged Data')\n",
    "    print('\\t...Shape After Bridge:', rna_matrix.shape)\n",
    "    rna_matrix.to_csv(bridged_matrix_filename, index=False)\n",
    "print('Done!')"
   ]
  },
  {
   "cell_type": "markdown",
   "metadata": {},
   "source": [
    "### Generate Scramble Using Bridged Data"
   ]
  },
  {
   "cell_type": "code",
   "execution_count": 38,
   "metadata": {},
   "outputs": [
    {
     "name": "stdout",
     "output_type": "stream",
     "text": [
      "Scrambling Mouse: AN7\n",
      "\t...Scramble 0\n",
      "\t...Scramble 1\n",
      "\t...Scramble 2\n",
      "\t...Scramble 3\n",
      "\t...Scramble 4\n",
      "Scrambling Mouse: AN6\n",
      "\t...Scramble 0\n",
      "\t...Scramble 1\n",
      "\t...Scramble 2\n",
      "\t...Scramble 3\n",
      "\t...Scramble 4\n",
      "Done!\n",
      "Time Elapsed: 363 seconds\n"
     ]
    }
   ],
   "source": [
    "start = time.process_time()\n",
    "for fname in os.listdir(bridged_output_dir):\n",
    "    if fname.split('.')[-1] != 'csv':\n",
    "        continue\n",
    "    replicate = fname.split('_')[0]\n",
    "    print('Scrambling Run:', replicate)\n",
    "\n",
    "    mapped_matrix = pd.read_csv(\n",
    "        os.path.join(\n",
    "            bridged_output_dir,\n",
    "            fname    \n",
    "        )\n",
    "    )\n",
    "\n",
    "    cells = mapped_matrix['CBC'].unique()\n",
    "    clones = mapped_matrix['TBC'].unique().tolist()\n",
    "\n",
    "    for i in range(n_scrambles):\n",
    "        scramble_clones = []\n",
    "        print('\\t...Scramble', i)\n",
    "        for cell in cells:\n",
    "            rand_clone = random.sample(clones, 1)[0]\n",
    "            scramble_clones.append(rand_clone)\n",
    "\n",
    "        scramble_matrix = mapped_matrix.copy()\n",
    "        scramble_matrix['TBC'] = scramble_clones\n",
    "\n",
    "        scramble_file = os.path.join(\n",
    "            scramble_output_dir,\n",
    "            replicate + '_scramble' + '-' + str(i) + '.csv'\n",
    "        )\n",
    "        scramble_matrix.to_csv(scramble_file, index=False)\n",
    "print('Done!')\n",
    "print('Time Elapsed:', round(time.process_time() - start), 'seconds')"
   ]
  },
  {
   "cell_type": "code",
   "execution_count": null,
   "metadata": {},
   "outputs": [],
   "source": []
  }
 ],
 "metadata": {
  "kernelspec": {
   "display_name": "Python 3",
   "language": "python",
   "name": "python3"
  },
  "language_info": {
   "codemirror_mode": {
    "name": "ipython",
    "version": 3
   },
   "file_extension": ".py",
   "mimetype": "text/x-python",
   "name": "python",
   "nbconvert_exporter": "python",
   "pygments_lexer": "ipython3",
   "version": "3.6.0"
  }
 },
 "nbformat": 4,
 "nbformat_minor": 4
}
